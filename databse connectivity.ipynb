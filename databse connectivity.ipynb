{
 "cells": [
  {
   "cell_type": "code",
   "execution_count": 4,
   "metadata": {},
   "outputs": [
    {
     "name": "stdout",
     "output_type": "stream",
     "text": [
      "Defaulting to user installation because normal site-packages is not writeable\n",
      "Requirement already satisfied: pyodbc in c:\\users\\gupta\\appdata\\local\\packages\\pythonsoftwarefoundation.python.3.12_qbz5n2kfra8p0\\localcache\\local-packages\\python312\\site-packages (5.1.0)\n",
      "Note: you may need to restart the kernel to use updated packages.\n"
     ]
    }
   ],
   "source": [
    "pip install pyodbc"
   ]
  },
  {
   "cell_type": "code",
   "execution_count": 5,
   "metadata": {},
   "outputs": [],
   "source": [
    "import pandas as pd\n",
    "import pyodbc\n"
   ]
  },
  {
   "cell_type": "code",
   "execution_count": 6,
   "metadata": {},
   "outputs": [
    {
     "name": "stderr",
     "output_type": "stream",
     "text": [
      "C:\\Users\\gupta\\AppData\\Local\\Temp\\ipykernel_26068\\3974907397.py:10: UserWarning: pandas only supports SQLAlchemy connectable (engine/connection) or database string URI or sqlite3 DBAPI2 connection. Other DBAPI2 objects are not tested. Please consider using SQLAlchemy.\n",
      "  sql_query = pd.read_sql_query('SELECT student_id FROM student', connection)\n"
     ]
    },
    {
     "data": {
      "text/html": [
       "<div>\n",
       "<style scoped>\n",
       "    .dataframe tbody tr th:only-of-type {\n",
       "        vertical-align: middle;\n",
       "    }\n",
       "\n",
       "    .dataframe tbody tr th {\n",
       "        vertical-align: top;\n",
       "    }\n",
       "\n",
       "    .dataframe thead th {\n",
       "        text-align: right;\n",
       "    }\n",
       "</style>\n",
       "<table border=\"1\" class=\"dataframe\">\n",
       "  <thead>\n",
       "    <tr style=\"text-align: right;\">\n",
       "      <th></th>\n",
       "      <th>student_id</th>\n",
       "    </tr>\n",
       "  </thead>\n",
       "  <tbody>\n",
       "    <tr>\n",
       "      <th>0</th>\n",
       "      <td>1</td>\n",
       "    </tr>\n",
       "    <tr>\n",
       "      <th>1</th>\n",
       "      <td>2</td>\n",
       "    </tr>\n",
       "    <tr>\n",
       "      <th>2</th>\n",
       "      <td>3</td>\n",
       "    </tr>\n",
       "    <tr>\n",
       "      <th>3</th>\n",
       "      <td>4</td>\n",
       "    </tr>\n",
       "    <tr>\n",
       "      <th>4</th>\n",
       "      <td>5</td>\n",
       "    </tr>\n",
       "  </tbody>\n",
       "</table>\n",
       "</div>"
      ],
      "text/plain": [
       "   student_id\n",
       "0           1\n",
       "1           2\n",
       "2           3\n",
       "3           4\n",
       "4           5"
      ]
     },
     "execution_count": 6,
     "metadata": {},
     "output_type": "execute_result"
    }
   ],
   "source": [
    "import pyodbc\n",
    "\n",
    "# Connection string\n",
    "connection = pyodbc.connect(\n",
    "    'DRIVER=ODBC Driver 17 for SQL Server;'\n",
    "    'SERVER=LAPTOP-75JKGB40;'\n",
    "    'DATABASE=CB_DATABASE_VARUN;'\n",
    "    'Trusted_connection=yes;'\n",
    ")\n",
    "sql_query = pd.read_sql_query('SELECT student_id FROM student', connection)\n",
    "sql_query\n"
   ]
  },
  {
   "cell_type": "code",
   "execution_count": 7,
   "metadata": {},
   "outputs": [
    {
     "name": "stdout",
     "output_type": "stream",
     "text": [
      "   student_id first_name last_name date_of_birth  gender enrollment_date  \\\n",
      "0           1       John       Doe    2000-01-15    Male      2023-09-18   \n",
      "1           2       Jane     Smith    1999-05-10  Female      2023-09-18   \n",
      "2           3     Robert   Johnson    2001-08-20    Male      2023-09-18   \n",
      "3           4      Emily     Davis    2000-11-30  Female      2023-09-18   \n",
      "4           5    Michael     Brown    1998-02-25    Male      2023-09-18   \n",
      "\n",
      "                       email phone_number  \n",
      "0        johndoe@example.com   1234567890  \n",
      "1      janesmith@example.com   0987654321  \n",
      "2  robertjohnson@example.com   1112223333  \n",
      "3     emilydavis@example.com   4445556666  \n",
      "4   michaelbrown@example.com   7778889999  \n"
     ]
    },
    {
     "name": "stderr",
     "output_type": "stream",
     "text": [
      "C:\\Users\\gupta\\AppData\\Local\\Temp\\ipykernel_26068\\400631286.py:2: UserWarning: pandas only supports SQLAlchemy connectable (engine/connection) or database string URI or sqlite3 DBAPI2 connection. Other DBAPI2 objects are not tested. Please consider using SQLAlchemy.\n",
      "  sql_query = pd.read_sql_query('SELECT * FROM student', connection)\n"
     ]
    }
   ],
   "source": [
    "# Assuming 'connection' is a valid SQL Server connection object\n",
    "sql_query = pd.read_sql_query('SELECT * FROM student', connection)\n",
    "\n",
    "# Print the result\n",
    "print(sql_query)"
   ]
  },
  {
   "cell_type": "code",
   "execution_count": 8,
   "metadata": {},
   "outputs": [
    {
     "ename": "ProgrammingError",
     "evalue": "('42S02', \"[42S02] [Microsoft][ODBC Driver 17 for SQL Server][SQL Server]Invalid object name 'your_table'. (208) (SQLExecDirectW)\")",
     "output_type": "error",
     "traceback": [
      "\u001b[1;31m---------------------------------------------------------------------------\u001b[0m",
      "\u001b[1;31mProgrammingError\u001b[0m                          Traceback (most recent call last)",
      "Cell \u001b[1;32mIn[8], line 5\u001b[0m\n\u001b[0;32m      2\u001b[0m cursor \u001b[38;5;241m=\u001b[39m connection\u001b[38;5;241m.\u001b[39mcursor()\n\u001b[0;32m      4\u001b[0m \u001b[38;5;66;03m# Execute a query\u001b[39;00m\n\u001b[1;32m----> 5\u001b[0m \u001b[43mcursor\u001b[49m\u001b[38;5;241;43m.\u001b[39;49m\u001b[43mexecute\u001b[49m\u001b[43m(\u001b[49m\u001b[38;5;124;43m\"\u001b[39;49m\u001b[38;5;124;43mSELECT * FROM your_table\u001b[39;49m\u001b[38;5;124;43m\"\u001b[39;49m\u001b[43m)\u001b[49m\n\u001b[0;32m      7\u001b[0m \u001b[38;5;66;03m# Fetch all results\u001b[39;00m\n\u001b[0;32m      8\u001b[0m rows \u001b[38;5;241m=\u001b[39m cursor\u001b[38;5;241m.\u001b[39mfetchall()\n",
      "\u001b[1;31mProgrammingError\u001b[0m: ('42S02', \"[42S02] [Microsoft][ODBC Driver 17 for SQL Server][SQL Server]Invalid object name 'your_table'. (208) (SQLExecDirectW)\")"
     ]
    }
   ],
   "source": [
    "\n",
    "\n",
    "\n",
    "# Create a cursor object\n",
    "cursor = connection.cursor()\n",
    "\n",
    "# Execute a query\n",
    "cursor.execute(\"SELECT * FROM your_table\")\n",
    "\n",
    "# Fetch all results\n",
    "rows = cursor.fetchall()\n",
    "\n",
    "# Display results\n",
    "for row in rows:\n",
    "    print(row)\n",
    "\n",
    "# Close connection\n",
    "cursor.close()\n",
    "connection.close()\n"
   ]
  },
  {
   "cell_type": "code",
   "execution_count": null,
   "metadata": {},
   "outputs": [],
   "source": []
  },
  {
   "cell_type": "code",
   "execution_count": 10,
   "metadata": {},
   "outputs": [
    {
     "name": "stdout",
     "output_type": "stream",
     "text": [
      "Original Data:\n",
      "   customer_id customer_name phone_number              email\n",
      "0            1      John Doe   1234567890   john@example.com\n",
      "1            2    Jane Smith         None   jane@example.com\n",
      "2            3   Bob Johnson   9876543210    bob@example.com\n",
      "3            4     Susan Lee         None  susan@example.com\n",
      "4            5   Chris Brown   5556667777  chris@example.com\n"
     ]
    }
   ],
   "source": [
    "import pandas as pd\n",
    "\n",
    "# Sample data as a dictionary\n",
    "data = {\n",
    "    \"customer_id\": [1, 2, 3, 4, 5],\n",
    "    \"customer_name\": [\"John Doe\", \"Jane Smith\", \"Bob Johnson\", \"Susan Lee\", \"Chris Brown\"],\n",
    "    \"phone_number\": [\"1234567890\", None, \"9876543210\", None, \"5556667777\"],\n",
    "    \"email\": [\"john@example.com\", \"jane@example.com\", \"bob@example.com\", \"susan@example.com\", \"chris@example.com\"]\n",
    "}\n",
    "\n",
    "# Create a DataFrame\n",
    "df = pd.DataFrame(data)\n",
    "\n",
    "# Display original data\n",
    "print(\"Original Data:\")\n",
    "print(df)\n",
    "\n",
    "# Filter rows where phone_number is not missing (not null)\n",
    "# validated_df = df[df[\"phone_number\"].notnull()]\n",
    "# w = df[\"phone_number\"].isnull()\n",
    "# df[\"phone_number\"].drop(w)\n",
    "\n",
    "\n",
    "cleaned_df = df[df['phone_number'].notnull()]\n",
    "\n",
    "# \n",
    "cleaned_df\n",
    "cleaned_df.to_csv(\"v.csv\")\n",
    "# # Display cleaned data\n",
    "# print(\"\\nValidated Data (Rows with non-null phone numbers):\")\n",
    "# print(validated_df)\n",
    "\n",
    "# # Save cleaned data to a new CSV file\n",
    "# validated_df.to_csv(\"validated_customers.csv\", index=False)\n",
    "\n",
    "# print(\"\\nValidated data saved to 'validated_customers.csv'.\")\n"
   ]
  }
 ],
 "metadata": {
  "kernelspec": {
   "display_name": "Python 3",
   "language": "python",
   "name": "python3"
  },
  "language_info": {
   "codemirror_mode": {
    "name": "ipython",
    "version": 3
   },
   "file_extension": ".py",
   "mimetype": "text/x-python",
   "name": "python",
   "nbconvert_exporter": "python",
   "pygments_lexer": "ipython3",
   "version": "3.12.8"
  }
 },
 "nbformat": 4,
 "nbformat_minor": 2
}
